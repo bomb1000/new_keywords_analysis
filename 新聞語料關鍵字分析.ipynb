{
  "nbformat": 4,
  "nbformat_minor": 0,
  "metadata": {
    "colab": {
      "provenance": [],
      "authorship_tag": "ABX9TyOvbDCZkgClWe//cPaxetUI",
      "include_colab_link": true
    },
    "kernelspec": {
      "name": "python3",
      "display_name": "Python 3"
    },
    "language_info": {
      "name": "python"
    }
  },
  "cells": [
    {
      "cell_type": "markdown",
      "metadata": {
        "id": "view-in-github",
        "colab_type": "text"
      },
      "source": [
        "<a href=\"https://colab.research.google.com/github/bomb1000/new_keywords_analysis/blob/main/%E6%96%B0%E8%81%9E%E8%AA%9E%E6%96%99%E9%97%9C%E9%8D%B5%E5%AD%97%E5%88%86%E6%9E%90.ipynb\" target=\"_parent\"><img src=\"https://colab.research.google.com/assets/colab-badge.svg\" alt=\"Open In Colab\"/></a>"
      ]
    },
    {
      "cell_type": "code",
      "execution_count": 24,
      "metadata": {
        "id": "9PBEnyQY8sv0"
      },
      "outputs": [],
      "source": [
        "import requests\n",
        "from bs4 import BeautifulSoup\n",
        "\n",
        "# 利用 requests 對 API 來源發送一個請求\n",
        "response = requests.get('https://udn.com/news/breaknews/1')\n",
        "soup = BeautifulSoup(response.text)"
      ]
    },
    {
      "cell_type": "code",
      "source": [
        "news = []\n",
        "count = 0\n",
        "for link in soup.find_all('h3', class_='rounded-thumb__title')[:4]:\n",
        "  news_url = link.a['href']\n",
        "  news_response = requests.get('https://udn.com' + news_url)\n",
        "  news_soup = BeautifulSoup(news_response.text)\n",
        "  news_content = str(news_soup.find('div', class_='article-content__paragraph').text.strip().replace('\\n', ' '))\n",
        "  news.append(news_content)\n",
        "  count +=1\n",
        "  print('https://udn.com' + news_url)\n",
        "  print('a', news_content)\n",
        " "
      ],
      "metadata": {
        "colab": {
          "base_uri": "https://localhost:8080/"
        },
        "id": "EGFcEBj9_r3O",
        "outputId": "2008aedb-dc02-4511-e4c7-8a11c41fbb6a"
      },
      "execution_count": 27,
      "outputs": [
        {
          "output_type": "stream",
          "name": "stdout",
          "text": [
            "https://udn.com/news/story/123450/7188208?from=udn-catehotnews_ch2\n",
            "a 草莓香氣十足，無論作為水果單吃或加工製成甜品，都是許多大人小孩的最愛。不過，你夠了解草莓嗎？日前112年國中教育會考落幕，有考生在臉書粉絲社團「國中學習討論群」PO出今年自然科考題，題幹詢問草莓表面如同「小芝麻」的顆粒為何種構造，不料竟考倒眾人。  \r 題目敘述，已知草莓是由花托處膨大而來，「*」記號標示構造則由草莓的子房發育而成，題幹還附上兩張示意圖，一張剖析草莓的花朵構造，一張則以「*」記號標示，詢問考生該構造究竟為何。根據心測中心給出的正解，答案為選項（C）「果實」。            112年會考自然科考題，題幹詢問草莓表面如同「小芝麻」的顆粒為何種構造。圖／翻攝自臉書「國中學習討論群」\r 「想問為什麼這題是C，不是指著種子嗎？」該名考生下意識認為，草莓表面的顆粒為種子，然而踏入陷阱的不只他一人。不少考生也在留言區哀號，「跟我一樣（爛東西）」、「我也是」、「那個吃的草莓不是果實，一點一點的是果實，誰知道？」、「我也選種子，但你看它指的超細，其實它沒指到種子」、「我二話不說直接：耶~種子了」。 \r 對此，許多國中生也跳出來解答，「題目有說是子房發育而成，而且其實那個草莓籽是果實」、「這個題目有寫子房，答案很明顯，子房（長成）果實、胚珠（長成）種子」、「我們認為的果實其實是花托，而我們認為的種子其實才是果實，裡面包裹著種子」。 \r 根據《食力》報導，草莓花凋謝後，花梗頂端長著花朵的花托會迅速膨大變紅，成為大家愛吃的草莓，花心內的心皮會結成一粒粒小果鑲嵌在花托上，則稱作「瘦果」。草莓光是一朵花就可以結出許多瘦果，因此草莓表面的小點點其實就是瘦果，卻時常被誤認是草莓的種子，但它其實才是草莓真正的果實。   ▌延伸推薦： 會考自然／考生：計算少、難易適中 考永續發展、綠能和病毒【文教熱話題】  ▪ 整理包／112年國中教育會考 5科完整試題與解答   ▪ 112會考／錯幾題可拿A++？ 五科「容錯題數」一次看   ▪ 會考英語首題與參考題「一模一樣」！ 心測中心宣布送分  ▪ 考生注意！112年學測成績轉換分科測驗級分查詢看這裡  ▪ 會考英文／考生評「歷年最簡單」 題組融合性別議題  ▪ 會考自然／題組跨科融合「中偏易」 素養題考觀念不死記  ▪ 大學剉咧等！ChatGPT代寫報告、學檔 考招受考驗  ▪ 專題／學習歷程，別鬧了！首屆108課綱生心路大公開     112會考 草莓 考題 國中生 自然科\n",
            "https://udn.com/news/story/7266/7189278?from=udn-catehotnews_ch2\n",
            " 雲端發票專屬獎有四類獎項，分別是100萬元獎30組、2,000元獎1萬6000組、800元獎10萬組，以及500元獎165萬組，雲端發票專屬獎中獎號碼將公布於財政部稅務入口網站。  今年3-4月期統一發票中獎號碼於今（25）日開獎。 圖／聯合報系資料照片    統一發票 頭獎 電子發票\n",
            "https://udn.com/news/story/7266/7189014?from=udn-catehotnews_ch2\n",
            " 彭啟明表示，但目前海水溫度頗高，特別是考慮未來聖嬰現象發展，很讓人憂心未來的發展。「希望它不會走到這一步」，如果真的如某些長期預測，走到強聖嬰，「會是如何呢？實在不敢想像，是老天提醒大家除了淨零更要注意調適防災應變嗎？」中度颱風瑪娃中心位置在關島西北方90公里海面上（鵝鑾鼻東南東方2650公里海面上），以每小時19公里速度，向西北西進行。圖／取自氣象局網站    颱風 彭啟明 氣象局\n",
            "https://udn.com/news/story/120912/7188436?from=udn-catehotnews_ch2\n",
            " 文章也吸引網友們的討論，「因爲日本食物重視鮮度，而且鮮度不夠會不好吃以外，還會食物中毒；相對的台灣食物的處理就大多沒這問題，都用鮮度無法發揮的料理方式」、「這是上一輩留下來的，不要浪費食物文化，可以拿回家宵夜吃，隔天帶便當」、「我之前在日本的拉麵店有打包過，雖然日本人同事聽了很驚訝就是了」、「其實感覺日本都是嚴格的考慮食安的問題，否則打包不是不好的文化，食材不浪費」、「食物才不會浪費喔！這是台灣人節儉與惜福的美德，很推薦」。     日本 餐廳\n"
          ]
        }
      ]
    },
    {
      "cell_type": "code",
      "source": [],
      "metadata": {
        "id": "ZryqnN5BF9xt"
      },
      "execution_count": null,
      "outputs": []
    }
  ]
}